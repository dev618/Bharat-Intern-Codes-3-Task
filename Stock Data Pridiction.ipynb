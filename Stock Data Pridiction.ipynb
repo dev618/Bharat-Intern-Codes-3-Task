{
 "cells": [
  {
   "cell_type": "code",
   "execution_count": 11,
   "id": "2828466f",
   "metadata": {},
   "outputs": [],
   "source": [
    "import pandas as pd\n",
    "import numpy as np\n",
    "import matplotlib.pyplot as plt\n",
    "from sklearn.preprocessing import MinMaxScaler\n",
    "from keras.models import Sequential\n",
    "from keras.layers import LSTM, Dense"
   ]
  },
  {
   "cell_type": "code",
   "execution_count": 16,
   "id": "32cfcff5",
   "metadata": {},
   "outputs": [],
   "source": [
    "data = pd.read_csv('C://Users//dsawa//Downloads//TSLA.csv')\n",
    "data['Date'] = pd.to_datetime(data['Date'])\n",
    "data = data.set_index('Date')"
   ]
  },
  {
   "cell_type": "code",
   "execution_count": 17,
   "id": "c7480c18",
   "metadata": {},
   "outputs": [],
   "source": [
    "closing_prices = data['Close'].values.reshape(-1, 1)"
   ]
  },
  {
   "cell_type": "code",
   "execution_count": 18,
   "id": "9a085298",
   "metadata": {},
   "outputs": [],
   "source": [
    "scaler = MinMaxScaler(feature_range=(0, 1))\n",
    "scaled_prices = scaler.fit_transform(closing_prices)"
   ]
  },
  {
   "cell_type": "code",
   "execution_count": 19,
   "id": "27ff05bc",
   "metadata": {},
   "outputs": [],
   "source": [
    "def create_sequences(data, seq_length):\n",
    "    X, y = [], []\n",
    "    for i in range(len(data) - seq_length):\n",
    "        X.append(data[i:i+seq_length])\n",
    "        y.append(data[i+seq_length])\n",
    "    return np.array(X), np.array(y)"
   ]
  },
  {
   "cell_type": "code",
   "execution_count": 20,
   "id": "8e67caed",
   "metadata": {},
   "outputs": [],
   "source": [
    "sequence_length = 60"
   ]
  },
  {
   "cell_type": "code",
   "execution_count": 21,
   "id": "7c731c35",
   "metadata": {},
   "outputs": [],
   "source": [
    "X, y = create_sequences(scaled_prices, sequence_length)"
   ]
  },
  {
   "cell_type": "code",
   "execution_count": 22,
   "id": "af2371a8",
   "metadata": {},
   "outputs": [],
   "source": [
    "train_size = int(0.8 * len(X))\n",
    "X_train, X_test = X[:train_size], X[train_size:]\n",
    "y_train, y_test = y[:train_size], y[train_size:]"
   ]
  },
  {
   "cell_type": "code",
   "execution_count": 23,
   "id": "4f56ddbf",
   "metadata": {},
   "outputs": [],
   "source": [
    "model = Sequential()\n",
    "model.add(LSTM(50, input_shape=(sequence_length, 1)))\n",
    "model.add(Dense(1))\n",
    "model.compile(loss='mean_squared_error', optimizer='adam')"
   ]
  },
  {
   "cell_type": "code",
   "execution_count": 24,
   "id": "078c5e2b",
   "metadata": {},
   "outputs": [
    {
     "name": "stdout",
     "output_type": "stream",
     "text": [
      "Epoch 1/100\n",
      "73/73 [==============================] - 9s 42ms/step - loss: 8.1838e-05\n",
      "Epoch 2/100\n",
      "73/73 [==============================] - 3s 42ms/step - loss: 4.6682e-06\n",
      "Epoch 3/100\n",
      "73/73 [==============================] - 3s 42ms/step - loss: 4.5299e-06\n",
      "Epoch 4/100\n",
      "73/73 [==============================] - 3s 39ms/step - loss: 4.3485e-06\n",
      "Epoch 5/100\n",
      "73/73 [==============================] - 3s 41ms/step - loss: 4.8649e-06\n",
      "Epoch 6/100\n",
      "73/73 [==============================] - 3s 43ms/step - loss: 4.1341e-06\n",
      "Epoch 7/100\n",
      "73/73 [==============================] - 3s 42ms/step - loss: 3.7157e-06\n",
      "Epoch 8/100\n",
      "73/73 [==============================] - 3s 44ms/step - loss: 3.7358e-06\n",
      "Epoch 9/100\n",
      "73/73 [==============================] - 3s 42ms/step - loss: 3.7248e-06\n",
      "Epoch 10/100\n",
      "73/73 [==============================] - 3s 43ms/step - loss: 3.3846e-06\n",
      "Epoch 11/100\n",
      "73/73 [==============================] - 3s 42ms/step - loss: 3.7145e-06\n",
      "Epoch 12/100\n",
      "73/73 [==============================] - 3s 42ms/step - loss: 3.1512e-06\n",
      "Epoch 13/100\n",
      "73/73 [==============================] - 3s 43ms/step - loss: 3.1640e-06\n",
      "Epoch 14/100\n",
      "73/73 [==============================] - 3s 43ms/step - loss: 2.9848e-06\n",
      "Epoch 15/100\n",
      "73/73 [==============================] - 3s 42ms/step - loss: 2.9115e-06\n",
      "Epoch 16/100\n",
      "73/73 [==============================] - 3s 42ms/step - loss: 2.9308e-06\n",
      "Epoch 17/100\n",
      "73/73 [==============================] - 3s 42ms/step - loss: 2.7335e-06\n",
      "Epoch 18/100\n",
      "73/73 [==============================] - 3s 42ms/step - loss: 3.2968e-06\n",
      "Epoch 19/100\n",
      "73/73 [==============================] - 3s 43ms/step - loss: 2.8585e-06\n",
      "Epoch 20/100\n",
      "73/73 [==============================] - 3s 43ms/step - loss: 2.9029e-06\n",
      "Epoch 21/100\n",
      "73/73 [==============================] - 3s 43ms/step - loss: 2.7109e-06\n",
      "Epoch 22/100\n",
      "73/73 [==============================] - 3s 43ms/step - loss: 2.6392e-06\n",
      "Epoch 23/100\n",
      "73/73 [==============================] - 3s 43ms/step - loss: 2.6226e-06\n",
      "Epoch 24/100\n",
      "73/73 [==============================] - 3s 41ms/step - loss: 2.5339e-06\n",
      "Epoch 25/100\n",
      "73/73 [==============================] - 3s 43ms/step - loss: 2.4311e-06\n",
      "Epoch 26/100\n",
      "73/73 [==============================] - 3s 44ms/step - loss: 2.3895e-06\n",
      "Epoch 27/100\n",
      "73/73 [==============================] - 3s 42ms/step - loss: 2.2605e-06\n",
      "Epoch 28/100\n",
      "73/73 [==============================] - 3s 43ms/step - loss: 2.6312e-06\n",
      "Epoch 29/100\n",
      "73/73 [==============================] - 3s 42ms/step - loss: 2.2590e-06\n",
      "Epoch 30/100\n",
      "73/73 [==============================] - 3s 42ms/step - loss: 2.3527e-06\n",
      "Epoch 31/100\n",
      "73/73 [==============================] - 3s 42ms/step - loss: 2.5201e-06\n",
      "Epoch 32/100\n",
      "73/73 [==============================] - 3s 42ms/step - loss: 2.0337e-06\n",
      "Epoch 33/100\n",
      "73/73 [==============================] - 3s 43ms/step - loss: 2.3936e-06\n",
      "Epoch 34/100\n",
      "73/73 [==============================] - 3s 45ms/step - loss: 2.1608e-06\n",
      "Epoch 35/100\n",
      "73/73 [==============================] - 3s 45ms/step - loss: 2.1766e-06\n",
      "Epoch 36/100\n",
      "73/73 [==============================] - 3s 42ms/step - loss: 2.0576e-06\n",
      "Epoch 37/100\n",
      "73/73 [==============================] - 3s 43ms/step - loss: 2.6582e-06\n",
      "Epoch 38/100\n",
      "73/73 [==============================] - 3s 44ms/step - loss: 1.8327e-06\n",
      "Epoch 39/100\n",
      "73/73 [==============================] - 3s 43ms/step - loss: 2.0173e-06\n",
      "Epoch 40/100\n",
      "73/73 [==============================] - 3s 42ms/step - loss: 2.0177e-06\n",
      "Epoch 41/100\n",
      "73/73 [==============================] - 3s 42ms/step - loss: 1.8745e-06\n",
      "Epoch 42/100\n",
      "73/73 [==============================] - 3s 44ms/step - loss: 1.8230e-06\n",
      "Epoch 43/100\n",
      "73/73 [==============================] - 3s 43ms/step - loss: 1.8809e-06\n",
      "Epoch 44/100\n",
      "73/73 [==============================] - 3s 42ms/step - loss: 2.2228e-06\n",
      "Epoch 45/100\n",
      "73/73 [==============================] - 3s 42ms/step - loss: 1.7790e-06\n",
      "Epoch 46/100\n",
      "73/73 [==============================] - 3s 43ms/step - loss: 1.8219e-06\n",
      "Epoch 47/100\n",
      "73/73 [==============================] - 3s 43ms/step - loss: 1.7425e-06\n",
      "Epoch 48/100\n",
      "73/73 [==============================] - 3s 42ms/step - loss: 1.7667e-06\n",
      "Epoch 49/100\n",
      "73/73 [==============================] - 3s 43ms/step - loss: 1.8980e-06\n",
      "Epoch 50/100\n",
      "73/73 [==============================] - 3s 42ms/step - loss: 1.7687e-06\n",
      "Epoch 51/100\n",
      "73/73 [==============================] - 3s 42ms/step - loss: 1.6646e-06\n",
      "Epoch 52/100\n",
      "73/73 [==============================] - 3s 42ms/step - loss: 1.6046e-06\n",
      "Epoch 53/100\n",
      "73/73 [==============================] - 3s 43ms/step - loss: 1.6260e-06\n",
      "Epoch 54/100\n",
      "73/73 [==============================] - 3s 44ms/step - loss: 1.5872e-06\n",
      "Epoch 55/100\n",
      "73/73 [==============================] - 3s 43ms/step - loss: 1.6496e-06\n",
      "Epoch 56/100\n",
      "73/73 [==============================] - 3s 43ms/step - loss: 1.6797e-06\n",
      "Epoch 57/100\n",
      "73/73 [==============================] - 3s 42ms/step - loss: 1.8422e-06\n",
      "Epoch 58/100\n",
      "73/73 [==============================] - 3s 43ms/step - loss: 1.5806e-06\n",
      "Epoch 59/100\n",
      "73/73 [==============================] - 3s 42ms/step - loss: 1.7189e-06\n",
      "Epoch 60/100\n",
      "73/73 [==============================] - 3s 42ms/step - loss: 1.5192e-06\n",
      "Epoch 61/100\n",
      "73/73 [==============================] - 3s 42ms/step - loss: 1.6699e-06\n",
      "Epoch 62/100\n",
      "73/73 [==============================] - 3s 43ms/step - loss: 1.6074e-06\n",
      "Epoch 63/100\n",
      "73/73 [==============================] - 3s 43ms/step - loss: 1.4521e-06\n",
      "Epoch 64/100\n",
      "73/73 [==============================] - 3s 43ms/step - loss: 1.4643e-06\n",
      "Epoch 65/100\n",
      "73/73 [==============================] - 3s 43ms/step - loss: 1.5427e-06\n",
      "Epoch 66/100\n",
      "73/73 [==============================] - 3s 43ms/step - loss: 1.7925e-06\n",
      "Epoch 67/100\n",
      "73/73 [==============================] - 3s 43ms/step - loss: 1.5815e-06\n",
      "Epoch 68/100\n",
      "73/73 [==============================] - 3s 44ms/step - loss: 1.8561e-06\n",
      "Epoch 69/100\n",
      "73/73 [==============================] - 3s 43ms/step - loss: 1.6824e-06\n",
      "Epoch 70/100\n",
      "73/73 [==============================] - 3s 42ms/step - loss: 1.4587e-06\n",
      "Epoch 71/100\n",
      "73/73 [==============================] - 3s 43ms/step - loss: 1.4889e-06\n",
      "Epoch 72/100\n",
      "73/73 [==============================] - 3s 45ms/step - loss: 1.4800e-06\n",
      "Epoch 73/100\n",
      "73/73 [==============================] - 3s 45ms/step - loss: 1.3867e-06\n",
      "Epoch 74/100\n",
      "73/73 [==============================] - 3s 46ms/step - loss: 1.4232e-06\n",
      "Epoch 75/100\n",
      "73/73 [==============================] - 3s 45ms/step - loss: 1.3976e-06\n",
      "Epoch 76/100\n",
      "73/73 [==============================] - 3s 43ms/step - loss: 1.4894e-06\n",
      "Epoch 77/100\n",
      "73/73 [==============================] - 3s 43ms/step - loss: 1.6621e-06\n",
      "Epoch 78/100\n",
      "73/73 [==============================] - 3s 42ms/step - loss: 1.4551e-06\n",
      "Epoch 79/100\n",
      "73/73 [==============================] - 3s 43ms/step - loss: 1.5219e-06\n",
      "Epoch 80/100\n",
      "73/73 [==============================] - 3s 44ms/step - loss: 1.6791e-06\n",
      "Epoch 81/100\n",
      "73/73 [==============================] - 3s 42ms/step - loss: 1.3281e-06\n",
      "Epoch 82/100\n",
      "73/73 [==============================] - 3s 43ms/step - loss: 1.4744e-06\n",
      "Epoch 83/100\n",
      "73/73 [==============================] - 3s 43ms/step - loss: 1.3217e-06\n",
      "Epoch 84/100\n",
      "73/73 [==============================] - 3s 42ms/step - loss: 1.3542e-06\n",
      "Epoch 85/100\n",
      "73/73 [==============================] - 3s 43ms/step - loss: 1.2453e-06\n",
      "Epoch 86/100\n",
      "73/73 [==============================] - 3s 43ms/step - loss: 1.3033e-06\n",
      "Epoch 87/100\n",
      "73/73 [==============================] - 3s 43ms/step - loss: 1.4205e-06\n",
      "Epoch 88/100\n",
      "73/73 [==============================] - 3s 43ms/step - loss: 1.2757e-06\n",
      "Epoch 89/100\n",
      "73/73 [==============================] - 3s 44ms/step - loss: 1.3854e-06\n",
      "Epoch 90/100\n",
      "73/73 [==============================] - 3s 43ms/step - loss: 1.4062e-06\n",
      "Epoch 91/100\n",
      "73/73 [==============================] - 3s 43ms/step - loss: 1.6981e-06\n",
      "Epoch 92/100\n",
      "73/73 [==============================] - 3s 42ms/step - loss: 1.5085e-06\n",
      "Epoch 93/100\n",
      "73/73 [==============================] - 3s 43ms/step - loss: 1.4235e-06\n",
      "Epoch 94/100\n",
      "73/73 [==============================] - 3s 42ms/step - loss: 1.3444e-06\n",
      "Epoch 95/100\n",
      "73/73 [==============================] - 3s 43ms/step - loss: 1.4628e-06\n",
      "Epoch 96/100\n",
      "73/73 [==============================] - 3s 42ms/step - loss: 1.3103e-06\n",
      "Epoch 97/100\n",
      "73/73 [==============================] - 3s 42ms/step - loss: 1.4893e-06\n",
      "Epoch 98/100\n",
      "73/73 [==============================] - 3s 42ms/step - loss: 1.3937e-06\n",
      "Epoch 99/100\n",
      "73/73 [==============================] - 3s 41ms/step - loss: 1.2036e-06\n",
      "Epoch 100/100\n",
      "73/73 [==============================] - 3s 41ms/step - loss: 1.2029e-06\n"
     ]
    },
    {
     "data": {
      "text/plain": [
       "<keras.src.callbacks.History at 0x285a3455270>"
      ]
     },
     "execution_count": 24,
     "metadata": {},
     "output_type": "execute_result"
    }
   ],
   "source": [
    "model.fit(X_train, y_train, epochs=100, batch_size=32, verbose=1)"
   ]
  },
  {
   "cell_type": "code",
   "execution_count": 25,
   "id": "d379919e",
   "metadata": {},
   "outputs": [
    {
     "name": "stdout",
     "output_type": "stream",
     "text": [
      "73/73 [==============================] - 2s 15ms/step\n",
      "19/19 [==============================] - 0s 15ms/step\n"
     ]
    }
   ],
   "source": [
    "train_predictions = model.predict(X_train)\n",
    "test_predictions = model.predict(X_test)"
   ]
  },
  {
   "cell_type": "code",
   "execution_count": 26,
   "id": "2c143a02",
   "metadata": {},
   "outputs": [],
   "source": [
    "train_predictions = scaler.inverse_transform(train_predictions)\n",
    "y_train = scaler.inverse_transform(y_train)\n",
    "test_predictions = scaler.inverse_transform(test_predictions)\n",
    "y_test = scaler.inverse_transform(y_test)"
   ]
  },
  {
   "cell_type": "code",
   "execution_count": 28,
   "id": "508ca859",
   "metadata": {},
   "outputs": [
    {
     "data": {
      "image/png": "[encoded data removed]",
      "text/plain": [
       "<Figure size 1200x600 with 1 Axes>"
      ]
     },
     "metadata": {},
     "output_type": "display_data"
    }
   ],
   "source": [
    "plt.figure(figsize=(12, 6))\n",
    "plt.plot(data.index[sequence_length:train_size+sequence_length], y_train, label='Actual Train Prices')\n",
    "plt.plot(data.index[train_size+sequence_length:], y_test, label='Actual Test Prices')\n",
    "plt.plot(data.index[sequence_length:train_size+sequence_length], train_predictions, label='Predicted Train Prices')\n",
    "plt.plot(data.index[train_size+sequence_length:], test_predictions, label='Predicted Test Prices')\n",
    "plt.xlabel('Date')\n",
    "plt.ylabel('Stock Price')\n",
    "plt.title('Stock Price Prediction using LSTM for Company TESLA')\n",
    "plt.legend()\n",
    "plt.show()"
   ]
  },
  {
   "cell_type": "code",
   "execution_count": null,
   "id": "fa1445e8",
   "metadata": {},
   "outputs": [],
   "source": []
  }
 ],
 "metadata": {
  "kernelspec": {
   "display_name": "Python 3 (ipykernel)",
   "language": "python",
   "name": "python3"
  },
  "language_info": {
   "codemirror_mode": {
    "name": "ipython",
    "version": 3
   },
   "file_extension": ".py",
   "mimetype": "text/x-python",
   "name": "python",
   "nbconvert_exporter": "python",
   "pygments_lexer": "ipython3",
   "version": "3.10.9"
  }
 },
 "nbformat": 4,
 "nbformat_minor": 5
}
